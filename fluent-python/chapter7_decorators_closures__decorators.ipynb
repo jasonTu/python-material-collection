{
 "cells": [
  {
   "cell_type": "markdown",
   "metadata": {},
   "source": [
    "## Implementing a Simple Decorator"
   ]
  },
  {
   "cell_type": "code",
   "execution_count": 2,
   "metadata": {},
   "outputs": [],
   "source": [
    "# Example 7-15: A simple decorator to output the running time of functions\n",
    "import time\n",
    "\n",
    "def clock(func):\n",
    "    def clocked(*args):\n",
    "        t0 = time.perf_counter()\n",
    "        result = func(*args)\n",
    "        elapsed = time.perf_counter() - t0\n",
    "        name = func.__name__\n",
    "        arg_str = ', '.join(repr(arg) for arg in args)\n",
    "        print('[%0.8fs] %s(%s) -> %r' % (elapsed, name, arg_str, result))\n",
    "        return result\n",
    "    return clocked"
   ]
  },
  {
   "cell_type": "code",
   "execution_count": 3,
   "metadata": {},
   "outputs": [],
   "source": [
    "# Example 7-16: Using the clock decorator\n",
    "import time\n",
    "\n",
    "@clock\n",
    "def snooze(seconds):\n",
    "    time.sleep(seconds)\n",
    "    \n",
    "@clock\n",
    "def factorial(n):\n",
    "    return 1 if n < 2 else n*factorial(n-1)"
   ]
  },
  {
   "cell_type": "code",
   "execution_count": 4,
   "metadata": {},
   "outputs": [
    {
     "name": "stdout",
     "output_type": "stream",
     "text": [
      "[0.12721738s] snooze(0.123) -> None\n"
     ]
    }
   ],
   "source": [
    "snooze(.123)"
   ]
  },
  {
   "cell_type": "code",
   "execution_count": 5,
   "metadata": {},
   "outputs": [
    {
     "name": "stdout",
     "output_type": "stream",
     "text": [
      "[0.00000081s] factorial(1) -> 1\n",
      "[0.00032174s] factorial(2) -> 2\n",
      "[0.00038944s] factorial(3) -> 6\n",
      "[0.00044612s] factorial(4) -> 24\n",
      "[0.00049986s] factorial(5) -> 120\n",
      "[0.00055287s] factorial(6) -> 720\n"
     ]
    },
    {
     "data": {
      "text/plain": [
       "720"
      ]
     },
     "execution_count": 5,
     "metadata": {},
     "output_type": "execute_result"
    }
   ],
   "source": [
    "factorial(6)"
   ]
  },
  {
   "cell_type": "markdown",
   "metadata": {},
   "source": [
    "### How it Works\n",
    "Remember that this code:\n",
    "\n",
    "```python\n",
    "@clock\n",
    "def factorial(n):\n",
    "    return 1 if n < 2 else n*facotiral(n-1)\n",
    "```\n",
    "\n",
    "Actually does this:\n",
    "\n",
    "```python\n",
    "def factorial(n):\n",
    "    return 1 if n < 2 else n*factorial(n-1)\n",
    "\n",
    "factorial = clock(factorial)\n",
    "```"
   ]
  },
  {
   "cell_type": "code",
   "execution_count": 7,
   "metadata": {},
   "outputs": [
    {
     "data": {
      "text/plain": [
       "'clocked'"
      ]
     },
     "execution_count": 7,
     "metadata": {},
     "output_type": "execute_result"
    }
   ],
   "source": [
    "# function attribute changes\n",
    "factorial.__name__"
   ]
  },
  {
   "cell_type": "markdown",
   "metadata": {},
   "source": [
    "This is the typical behavior of a decorator: it replaces the decorated function with a new function that accepts the same arguments and (usually) returns whatever the decorated function was supposed to return, while also doing some extra processing."
   ]
  },
  {
   "cell_type": "markdown",
   "metadata": {},
   "source": [
    "The clock decorator implemented in Example 7-15 has a few shortcomings: it does not support keyword arguments, and it masks the __name__ and __doc__ of the decorated function. Example 7-17 uses the functools.wraps decorator to copy the relevant at‐ tributes from func to clocked. Also, in this new version, keyword arguments are cor‐ rectly handled."
   ]
  },
  {
   "cell_type": "code",
   "execution_count": 28,
   "metadata": {},
   "outputs": [],
   "source": [
    "# Example 7-17: An improved clock decorator\n",
    "import time\n",
    "import functools\n",
    "\n",
    "def clock(func):\n",
    "    @functools.wraps(func)\n",
    "    def clocked(*args, **kwargs):\n",
    "        t0 = time.time()\n",
    "        result = func(*args, **kwargs)\n",
    "        elapsed = time.time() - t0\n",
    "        name = func.__name__\n",
    "        arg_lst = []\n",
    "        if args:\n",
    "            arg_lst.append(', '.join(repr(arg) for arg in args))\n",
    "        if kwargs:\n",
    "            pairs = ['%s=%r' % (k, v) for k, v in sorted(kwargs.items())]\n",
    "            arg_lst.append(', '.join(pairs))\n",
    "        arg_str = ', '.join(arg_lst)\n",
    "        print('[%0.8fs] %s(%s) -> %r' % (elapsed, name, arg_str, result))\n",
    "        return result\n",
    "    return clocked"
   ]
  },
  {
   "cell_type": "code",
   "execution_count": 20,
   "metadata": {},
   "outputs": [],
   "source": [
    "@clock\n",
    "def paramed_func(*args, **kwargs):\n",
    "    return None"
   ]
  },
  {
   "cell_type": "code",
   "execution_count": 21,
   "metadata": {},
   "outputs": [
    {
     "name": "stdout",
     "output_type": "stream",
     "text": [
      "['(1, 2, 3)', 'a=1, b=2, c=3']\n",
      "[0.00000286s] paramed_func((1, 2, 3), a=1, b=2, c=3) -> None\n"
     ]
    }
   ],
   "source": [
    "paramed_func((1, 2, 3), a=1, b=2, c=3)"
   ]
  },
  {
   "cell_type": "code",
   "execution_count": 25,
   "metadata": {},
   "outputs": [
    {
     "data": {
      "text/plain": [
       "('func',)"
      ]
     },
     "execution_count": 25,
     "metadata": {},
     "output_type": "execute_result"
    }
   ],
   "source": [
    "paramed_func.__code__.co_freevars"
   ]
  },
  {
   "cell_type": "markdown",
   "metadata": {},
   "source": [
    "## Decorators in the Standard Library\n",
    "Python has three built-in functions that are designed to decorate methods: property, classmethod, and staticmethod. \n",
    "\n",
    "Another frequently seen decorator is functools.wraps, a helper for building well- behaved decorators. We used it in Example 7-17. Two of the most interesting decorators in the standard library are lru_cache and the brand-new singledispatch (added in Python 3.4). Both are defined in the functools module. We’ll cover them next."
   ]
  },
  {
   "cell_type": "markdown",
   "metadata": {},
   "source": [
    "### Memorization with functools.lru_cache\n",
    "A very practical decorator is functools.lru_cache. It implements memoization: an optimization technique that works by saving the results of previous invocations of an expensive function, avoiding repeat computations on previously used arguments. The letters LRU stand for Least Recently Used, meaning that the growth of the cache is limited by discarding the entries that have not been read for a while."
   ]
  },
  {
   "cell_type": "code",
   "execution_count": 30,
   "metadata": {},
   "outputs": [],
   "source": [
    "# Example 7-18: The very costly recusive way to compute the nth number in the Fibonacci series\n",
    "@clock\n",
    "def fibonacci(n):\n",
    "    if n < 2:\n",
    "        return n\n",
    "    return fibonacci(n-2) + fibonacci(n-1)"
   ]
  },
  {
   "cell_type": "code",
   "execution_count": 31,
   "metadata": {},
   "outputs": [
    {
     "name": "stdout",
     "output_type": "stream",
     "text": [
      "[0.00000095s] fibonacci(0) -> 0\n",
      "[0.00000310s] fibonacci(1) -> 1\n",
      "[0.00043797s] fibonacci(2) -> 1\n",
      "[0.00000191s] fibonacci(1) -> 1\n",
      "[0.00000191s] fibonacci(0) -> 0\n",
      "[0.00000215s] fibonacci(1) -> 1\n",
      "[0.00019789s] fibonacci(2) -> 1\n",
      "[0.00151205s] fibonacci(3) -> 2\n",
      "[0.00216484s] fibonacci(4) -> 3\n",
      "[0.00000119s] fibonacci(1) -> 1\n",
      "[0.00000072s] fibonacci(0) -> 0\n",
      "[0.00000095s] fibonacci(1) -> 1\n",
      "[0.00009894s] fibonacci(2) -> 1\n",
      "[0.00019979s] fibonacci(3) -> 2\n",
      "[0.00000095s] fibonacci(0) -> 0\n",
      "[0.00000119s] fibonacci(1) -> 1\n",
      "[0.00012112s] fibonacci(2) -> 1\n",
      "[0.00000095s] fibonacci(1) -> 1\n",
      "[0.00000191s] fibonacci(0) -> 0\n",
      "[0.00000119s] fibonacci(1) -> 1\n",
      "[0.00011396s] fibonacci(2) -> 1\n",
      "[0.00022697s] fibonacci(3) -> 2\n",
      "[0.00045323s] fibonacci(4) -> 3\n",
      "[0.00075603s] fibonacci(5) -> 5\n",
      "[0.00304008s] fibonacci(6) -> 8\n",
      "8\n"
     ]
    }
   ],
   "source": [
    "print(fibonacci(6))"
   ]
  },
  {
   "cell_type": "markdown",
   "metadata": {},
   "source": [
    "The waste is obvious: fibonacci(1) is called eight times, fibonacci(2) five times, etc. But if we just add two lines to use lru_cache, performance is much improved. See Example 7-19."
   ]
  },
  {
   "cell_type": "code",
   "execution_count": 33,
   "metadata": {},
   "outputs": [],
   "source": [
    "# Example 7-19: Faster implementation using caching\n",
    "import functools\n",
    "\n",
    "@functools.lru_cache() # Note 1\n",
    "@clock # Note 2\n",
    "def fibonacci(n):\n",
    "    if n < 2:\n",
    "        return n\n",
    "    return fibonacci(n-2) + fibonacci(n-1)"
   ]
  },
  {
   "cell_type": "code",
   "execution_count": 34,
   "metadata": {},
   "outputs": [
    {
     "name": "stdout",
     "output_type": "stream",
     "text": [
      "[0.00000000s] fibonacci(0) -> 0\n",
      "[0.00000215s] fibonacci(1) -> 1\n",
      "[0.00039506s] fibonacci(2) -> 1\n",
      "[0.00000191s] fibonacci(3) -> 2\n",
      "[0.00049877s] fibonacci(4) -> 3\n",
      "[0.00000095s] fibonacci(5) -> 5\n",
      "[0.00058794s] fibonacci(6) -> 8\n"
     ]
    },
    {
     "data": {
      "text/plain": [
       "8"
      ]
     },
     "execution_count": 34,
     "metadata": {},
     "output_type": "execute_result"
    }
   ],
   "source": [
    "fibonacci(6)"
   ]
  },
  {
   "cell_type": "markdown",
   "metadata": {},
   "source": [
    "Note:\n",
    "* Note that lru_cache must be invoked as a regular function—note the parentheses in the line: @functools.lru_cache(). The reason is that it accepts configuration parameters, as we’ll see shortly.\n",
    "* This is an example of stacked decorators: @lru_cache() is applied on the function returned by @clock."
   ]
  },
  {
   "cell_type": "markdown",
   "metadata": {},
   "source": [
    "```python\n",
    "functools.lru_cache(maxsize=128, typed=False)\n",
    "```\n",
    "\n",
    "The maxsize argument determines how many call results are stored. After the cache is full, older results are discarded to make room. For optimal performance, maxsize should be a power of 2. The typed argument, if set to True, stores results of different argument types separately, i.e., distinguishing between float and integer arguments that are nor‐ mally considered equal, like 1 and 1.0. By the way, because lru_cache uses a dict to store the results, and the keys are made from the positional and keyword arguments used in the calls, all the arguments taken by the decorated function must be hashable."
   ]
  },
  {
   "cell_type": "markdown",
   "metadata": {},
   "source": [
    "## Stacked Decorators\n",
    "Example 7-19 demonstrated the use of stacked decorators: @lru_cache is applied on the result of @clock over fibonacci. In Example 7-21, the @htmlize.register deco‐ rator was applied twice to the last function in the module.\n",
    "\n",
    "When two decorators @d1 and @d2 are applied to a function f in that order, the result is the same as f = d1(d2(f)).\n",
    "\n",
    "In other words, this:\n",
    "\n",
    "```python\n",
    "@d1\n",
    "@d2\n",
    "def f():\n",
    "    print('f')\n",
    "```\n",
    "\n",
    "Is the same as:\n",
    "\n",
    "```python\n",
    "def f():\n",
    "    print('f')\n",
    "f = d1(d2(f))\n",
    "```"
   ]
  },
  {
   "cell_type": "markdown",
   "metadata": {},
   "source": [
    "## Parametered Decorators\n",
    "When parsing a decorator in source code, Python takes the decorated function and passes it as the first argument to the decorator function. So how do you make a decorator accept other arguments? The answer is: make a decorator factory that takes those ar‐ guments and returns a decorator, which is then applied to the function to be decorated. Confusing? Sure. Let’s start with an example based on the simplest decorator we’ve seen: register in Example 7-22."
   ]
  },
  {
   "cell_type": "code",
   "execution_count": 35,
   "metadata": {},
   "outputs": [
    {
     "name": "stdout",
     "output_type": "stream",
     "text": [
      "running register (<function f1 at 0x10ea029d8>)\n"
     ]
    }
   ],
   "source": [
    "# Example 7-22\n",
    "registry = []\n",
    "\n",
    "def register(func):\n",
    "    print('running register (%s)' % func)\n",
    "    registry.append(func)\n",
    "    return func\n",
    "\n",
    "@register\n",
    "def f1():\n",
    "    print('running f1()')"
   ]
  },
  {
   "cell_type": "code",
   "execution_count": 36,
   "metadata": {},
   "outputs": [
    {
     "data": {
      "text/plain": [
       "[<function __main__.f1()>]"
      ]
     },
     "execution_count": 36,
     "metadata": {},
     "output_type": "execute_result"
    }
   ],
   "source": [
    "registry"
   ]
  },
  {
   "cell_type": "code",
   "execution_count": 37,
   "metadata": {},
   "outputs": [
    {
     "name": "stdout",
     "output_type": "stream",
     "text": [
      "running f1()\n"
     ]
    }
   ],
   "source": [
    "f1()"
   ]
  },
  {
   "cell_type": "markdown",
   "metadata": {},
   "source": [
    "### A Parameterized Registration Decorator"
   ]
  },
  {
   "cell_type": "code",
   "execution_count": 38,
   "metadata": {},
   "outputs": [],
   "source": [
    "# Example 7-23: To accept parameters, the new register decorator must be called as a function\n",
    "registry = set()\n",
    "\n",
    "def register(active=True):\n",
    "    def decorate(func):\n",
    "        print('running register(active=%s)->decorate(%s)' % (active, func))\n",
    "        if active:\n",
    "            registry.add(func)\n",
    "        else:\n",
    "            registry.discard(func)\n",
    "            \n",
    "        return func\n",
    "    return decorate"
   ]
  },
  {
   "cell_type": "code",
   "execution_count": 39,
   "metadata": {},
   "outputs": [
    {
     "name": "stdout",
     "output_type": "stream",
     "text": [
      "running register(active=False)->decorate(<function f1 at 0x10eaa3730>)\n"
     ]
    }
   ],
   "source": [
    "@register(active=False)\n",
    "def f1():\n",
    "    print('running f1()')"
   ]
  },
  {
   "cell_type": "code",
   "execution_count": 40,
   "metadata": {},
   "outputs": [
    {
     "data": {
      "text/plain": [
       "set()"
      ]
     },
     "execution_count": 40,
     "metadata": {},
     "output_type": "execute_result"
    }
   ],
   "source": [
    "registry"
   ]
  },
  {
   "cell_type": "code",
   "execution_count": 41,
   "metadata": {},
   "outputs": [
    {
     "name": "stdout",
     "output_type": "stream",
     "text": [
      "running register(active=True)->decorate(<function f2 at 0x10eaa3598>)\n"
     ]
    }
   ],
   "source": [
    "@register()\n",
    "def f2():\n",
    "    print('running f2()')"
   ]
  },
  {
   "cell_type": "code",
   "execution_count": 42,
   "metadata": {},
   "outputs": [
    {
     "data": {
      "text/plain": [
       "{<function __main__.f2()>}"
      ]
     },
     "execution_count": 42,
     "metadata": {},
     "output_type": "execute_result"
    }
   ],
   "source": [
    "registry"
   ]
  },
  {
   "cell_type": "code",
   "execution_count": 43,
   "metadata": {},
   "outputs": [],
   "source": [
    "def f3():\n",
    "    print('running f3()')"
   ]
  },
  {
   "cell_type": "code",
   "execution_count": 44,
   "metadata": {},
   "outputs": [
    {
     "name": "stdout",
     "output_type": "stream",
     "text": [
      "running register(active=True)->decorate(<function f3 at 0x10ea97048>)\n"
     ]
    },
    {
     "data": {
      "text/plain": [
       "<function __main__.f3()>"
      ]
     },
     "execution_count": 44,
     "metadata": {},
     "output_type": "execute_result"
    }
   ],
   "source": [
    "register()(f3)"
   ]
  },
  {
   "cell_type": "code",
   "execution_count": 45,
   "metadata": {},
   "outputs": [
    {
     "data": {
      "text/plain": [
       "{<function __main__.f2()>, <function __main__.f3()>}"
      ]
     },
     "execution_count": 45,
     "metadata": {},
     "output_type": "execute_result"
    }
   ],
   "source": [
    "registry"
   ]
  },
  {
   "cell_type": "markdown",
   "metadata": {},
   "source": [
    "### The Parameterized Clock Decorator"
   ]
  },
  {
   "cell_type": "code",
   "execution_count": 57,
   "metadata": {},
   "outputs": [],
   "source": [
    "# Example 7-25: The parameterized clock decorator\n",
    "import time\n",
    "\n",
    "DEFAULT_FMT = '[{elapsed:0.8f}s] {name}({args} -> {result})'\n",
    "\n",
    "def clock(fmt=DEFAULT_FMT):\n",
    "    def decorate(func):\n",
    "        def clocked(*_args):\n",
    "            t0 = time.time()\n",
    "            _result = func(*_args)\n",
    "            elapsed = time.time() - t0\n",
    "            name = func.__name__\n",
    "            args = ', '.join(repr(arg) for arg in _args)\n",
    "            result = repr(_result)\n",
    "            print(fmt.format(**locals()))\n",
    "            return _result\n",
    "        return clocked\n",
    "    return decorate"
   ]
  },
  {
   "cell_type": "code",
   "execution_count": 64,
   "metadata": {},
   "outputs": [],
   "source": [
    "@clock()\n",
    "def snooze(seconds):\n",
    "    time.sleep(seconds)"
   ]
  },
  {
   "cell_type": "code",
   "execution_count": 65,
   "metadata": {},
   "outputs": [
    {
     "name": "stdout",
     "output_type": "stream",
     "text": [
      "[0.12407184s] snooze(0.123 -> None)\n"
     ]
    }
   ],
   "source": [
    "snooze(.123)"
   ]
  },
  {
   "cell_type": "code",
   "execution_count": 66,
   "metadata": {},
   "outputs": [],
   "source": [
    "@clock('{name}: {elapsed}s')\n",
    "def snooze(seconds):\n",
    "    time.sleep(seconds)"
   ]
  },
  {
   "cell_type": "code",
   "execution_count": 67,
   "metadata": {},
   "outputs": [
    {
     "name": "stdout",
     "output_type": "stream",
     "text": [
      "snooze: 0.12631702423095703s\n"
     ]
    }
   ],
   "source": [
    "snooze(.123)"
   ]
  }
 ],
 "metadata": {
  "kernelspec": {
   "display_name": "Python 3",
   "language": "python",
   "name": "python3"
  },
  "language_info": {
   "codemirror_mode": {
    "name": "ipython",
    "version": 3
   },
   "file_extension": ".py",
   "mimetype": "text/x-python",
   "name": "python",
   "nbconvert_exporter": "python",
   "pygments_lexer": "ipython3",
   "version": "3.6.5"
  }
 },
 "nbformat": 4,
 "nbformat_minor": 2
}
