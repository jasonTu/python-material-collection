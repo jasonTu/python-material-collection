{
 "cells": [
  {
   "cell_type": "code",
   "execution_count": 8,
   "metadata": {},
   "outputs": [],
   "source": [
    "%reload_ext autoreload"
   ]
  },
  {
   "cell_type": "code",
   "execution_count": 10,
   "metadata": {},
   "outputs": [],
   "source": [
    "%autoreload 2"
   ]
  },
  {
   "cell_type": "markdown",
   "metadata": {},
   "source": [
    "## Solution when pymysql upgrade to newer version\n",
    "When pymysql upgrade, the \"DEFAULT_CHARSET\" change to \"utf8m4b\" instead of \"latin1\". Our code will fail to get correct data in correct encode."
   ]
  },
  {
   "cell_type": "code",
   "execution_count": 1,
   "metadata": {},
   "outputs": [],
   "source": [
    "import pymysql"
   ]
  },
  {
   "cell_type": "code",
   "execution_count": 2,
   "metadata": {},
   "outputs": [],
   "source": [
    "conn = pymysql.connect(host='10.206.66.72', port=3306, user='admin', passwd='skynet#1.', db='Profiles', charset='latin1', use_unicode=False)"
   ]
  },
  {
   "cell_type": "code",
   "execution_count": 3,
   "metadata": {},
   "outputs": [],
   "source": [
    "cursor = conn.cursor()"
   ]
  },
  {
   "cell_type": "code",
   "execution_count": 11,
   "metadata": {},
   "outputs": [
    {
     "data": {
      "text/plain": [
       "1"
      ]
     },
     "execution_count": 11,
     "metadata": {},
     "output_type": "execute_result"
    }
   ],
   "source": [
    "cursor.execute('select name from devices where row_key=\"4db75aee-9301-11e9-a6c9-0050569836df\"')"
   ]
  },
  {
   "cell_type": "code",
   "execution_count": 12,
   "metadata": {},
   "outputs": [],
   "source": [
    "row = cursor.fetchall()"
   ]
  },
  {
   "cell_type": "code",
   "execution_count": 13,
   "metadata": {},
   "outputs": [
    {
     "data": {
      "text/plain": [
       "(('\\xe4\\xb8\\xad\\xe5\\x9b\\xbd\\xe5\\x95\\x8a',),)"
      ]
     },
     "execution_count": 13,
     "metadata": {},
     "output_type": "execute_result"
    }
   ],
   "source": [
    "row"
   ]
  },
  {
   "cell_type": "code",
   "execution_count": 14,
   "metadata": {},
   "outputs": [
    {
     "name": "stdout",
     "output_type": "stream",
     "text": [
      "中国啊\n"
     ]
    }
   ],
   "source": [
    "print(row[0][0])"
   ]
  },
  {
   "cell_type": "code",
   "execution_count": 15,
   "metadata": {},
   "outputs": [
    {
     "data": {
      "text/plain": [
       "\"'\\\\xe4\\\\xb8\\\\xad\\\\xe5\\\\x9b\\\\xbd\\\\xe5\\\\x95\\\\x8a'\""
      ]
     },
     "execution_count": 15,
     "metadata": {},
     "output_type": "execute_result"
    }
   ],
   "source": [
    "repr(row[0][0])"
   ]
  },
  {
   "cell_type": "code",
   "execution_count": 16,
   "metadata": {},
   "outputs": [
    {
     "name": "stdout",
     "output_type": "stream",
     "text": [
      "中国啊\n"
     ]
    }
   ],
   "source": [
    "print('\\xe4\\xb8\\xad\\xe5\\x9b\\xbd\\xe5\\x95\\x8a')"
   ]
  },
  {
   "cell_type": "code",
   "execution_count": 17,
   "metadata": {},
   "outputs": [],
   "source": [
    "cursor.close()"
   ]
  },
  {
   "cell_type": "code",
   "execution_count": 18,
   "metadata": {},
   "outputs": [],
   "source": [
    "conn.close()"
   ]
  },
  {
   "cell_type": "markdown",
   "metadata": {},
   "source": [
    "## Why need to work around when we not specific \"use_unicode\"\n",
    "When read the data from query result, it will decoded by encoding set by charset\n",
    "```\n",
    "  1196     def _read_row_from_packet(self, packet):                                     \n",
    "  1197         row = []                                                                 \n",
    "  1198         for encoding, converter in self.converters:                              \n",
    "  1199             try:                                                                 \n",
    "  1200                 data = packet.read_length_coded_string()                         \n",
    "  1201             except IndexError:                                                   \n",
    "  1202                 # No more columns in this row                                    \n",
    "  1203                 # See https://github.com/PyMySQL/PyMySQL/pull/434                \n",
    "  1204                 break                                                            \n",
    "  1205             if data is not None:                                                 \n",
    "  1206                 if encoding is not None:                                         \n",
    "  1207                     data = data.decode(encoding)                                 \n",
    "E>1208                 if DEBUG: print(\"DEBUG: DATA = \", data)                          \n",
    "  1209                 if converter is not None:                                        \n",
    "  1210                     data = converter(data)                                       \n",
    "  1211             row.append(data)                                                     \n",
    "  1212         return tuple(row)\n",
    "```"
   ]
  },
  {
   "cell_type": "code",
   "execution_count": 19,
   "metadata": {},
   "outputs": [],
   "source": [
    "a = '\\xe4\\xb8\\xad\\xe5\\x9b\\xbd\\xe5\\x95\\x8a'"
   ]
  },
  {
   "cell_type": "code",
   "execution_count": 23,
   "metadata": {},
   "outputs": [],
   "source": [
    "b = a.decode('latin1')"
   ]
  },
  {
   "cell_type": "code",
   "execution_count": 25,
   "metadata": {},
   "outputs": [
    {
     "data": {
      "text/plain": [
       "u'\\xe4\\xb8\\xad\\xe5\\x9b\\xbd\\xe5\\x95\\x8a'"
      ]
     },
     "execution_count": 25,
     "metadata": {},
     "output_type": "execute_result"
    }
   ],
   "source": [
    "b"
   ]
  },
  {
   "cell_type": "code",
   "execution_count": 27,
   "metadata": {},
   "outputs": [
    {
     "name": "stdout",
     "output_type": "stream",
     "text": [
      "中国啊\n"
     ]
    }
   ],
   "source": [
    "print(b.encode('latin1').decode('utf8'))"
   ]
  }
 ],
 "metadata": {
  "kernelspec": {
   "display_name": "Python 2",
   "language": "python",
   "name": "python2"
  },
  "language_info": {
   "codemirror_mode": {
    "name": "ipython",
    "version": 2
   },
   "file_extension": ".py",
   "mimetype": "text/x-python",
   "name": "python",
   "nbconvert_exporter": "python",
   "pygments_lexer": "ipython2",
   "version": "2.7.5"
  }
 },
 "nbformat": 4,
 "nbformat_minor": 2
}
