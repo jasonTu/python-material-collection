{
 "cells": [
  {
   "cell_type": "markdown",
   "metadata": {},
   "source": [
    "## Referer\n",
    "* [Windows 下使用ftp批处理脚本][1]\n",
    "* [windows7无法启动Telnet服务，出现错误1068][2]\n",
    "* [python telnet连接到windows方法][3]\n",
    "* [Telnet远程操作Windows服务器][4]\n",
    "\n",
    "[1]: https://blog.csdn.net/oscar999/article/details/45074679\n",
    "[2]: http://blog.sina.com.cn/s/blog_866c5a5d0101as9k.html\n",
    "[3]: https://blog.csdn.net/yingzinanfei/article/details/53165819\n",
    "[4]: https://blog.csdn.net/weiyi556/article/details/54612754"
   ]
  },
  {
   "cell_type": "code",
   "execution_count": 1,
   "metadata": {},
   "outputs": [],
   "source": [
    "import telnetlib"
   ]
  },
  {
   "cell_type": "code",
   "execution_count": 101,
   "metadata": {},
   "outputs": [],
   "source": [
    "tn = telnetlib.Telnet('192.168.1.55')"
   ]
  },
  {
   "cell_type": "code",
   "execution_count": 102,
   "metadata": {},
   "outputs": [
    {
     "data": {
      "text/plain": [
       "b'Welcome to Microsoft Telnet Service \\r\\n\\n\\rlogin: '"
      ]
     },
     "execution_count": 102,
     "metadata": {},
     "output_type": "execute_result"
    }
   ],
   "source": [
    "tn.read_until(b'login: ')"
   ]
  },
  {
   "cell_type": "code",
   "execution_count": 103,
   "metadata": {},
   "outputs": [],
   "source": [
    "tn.write(b'xman\\r\\n')"
   ]
  },
  {
   "cell_type": "code",
   "execution_count": 104,
   "metadata": {},
   "outputs": [
    {
     "data": {
      "text/plain": [
       "b'xman\\n\\rpassword: '"
      ]
     },
     "execution_count": 104,
     "metadata": {},
     "output_type": "execute_result"
    }
   ],
   "source": [
    "tn.read_until(b'password: ')"
   ]
  },
  {
   "cell_type": "code",
   "execution_count": 105,
   "metadata": {},
   "outputs": [],
   "source": [
    "tn.write(b'111111\\r\\n')"
   ]
  },
  {
   "cell_type": "code",
   "execution_count": 106,
   "metadata": {},
   "outputs": [],
   "source": [
    "for i in range(5):\n",
    "    tn.read_until(b'\\n', 2)"
   ]
  },
  {
   "cell_type": "code",
   "execution_count": 107,
   "metadata": {},
   "outputs": [
    {
     "data": {
      "text/plain": [
       "b'C:\\\\Users\\\\xman>'"
      ]
     },
     "execution_count": 107,
     "metadata": {},
     "output_type": "execute_result"
    }
   ],
   "source": [
    "tn.read_until(b'>', 2)"
   ]
  },
  {
   "cell_type": "code",
   "execution_count": 108,
   "metadata": {},
   "outputs": [],
   "source": [
    "tn.write(b'echo open 192.168.1.202 >> ftptmp.txt\\r\\n')\n",
    "tn.write(b'echo user ftpadmin 111111 >> ftptmp.txt\\r\\n')\n",
    "tn.write(b'echo get 10.txt >> ftptmp.txt\\r\\n')\n",
    "tn.write(b'echo bye >> ftptmp.txt\\r\\n')\n",
    "tn.write(b'echo exit >> ftptmp.txt\\r\\n')"
   ]
  },
  {
   "cell_type": "code",
   "execution_count": 112,
   "metadata": {},
   "outputs": [],
   "source": [
    "while True:\n",
    "    if tn.read_until(b'\\n', 2) == b'':\n",
    "        break"
   ]
  },
  {
   "cell_type": "code",
   "execution_count": 121,
   "metadata": {},
   "outputs": [],
   "source": [
    "tn.write(b'ftp -n -s:\"ftptmp.txt\"\\r\\n')"
   ]
  },
  {
   "cell_type": "code",
   "execution_count": 122,
   "metadata": {},
   "outputs": [],
   "source": [
    "while True:\n",
    "    if tn.read_until(b'\\n', 2) == b'':\n",
    "        break"
   ]
  },
  {
   "cell_type": "code",
   "execution_count": 100,
   "metadata": {},
   "outputs": [],
   "source": [
    "tn.close()"
   ]
  },
  {
   "cell_type": "code",
   "execution_count": null,
   "metadata": {},
   "outputs": [],
   "source": []
  }
 ],
 "metadata": {
  "kernelspec": {
   "display_name": "Python 3",
   "language": "python",
   "name": "python3"
  },
  "language_info": {
   "codemirror_mode": {
    "name": "ipython",
    "version": 3
   },
   "file_extension": ".py",
   "mimetype": "text/x-python",
   "name": "python",
   "nbconvert_exporter": "python",
   "pygments_lexer": "ipython3",
   "version": "3.5.2"
  }
 },
 "nbformat": 4,
 "nbformat_minor": 2
}
