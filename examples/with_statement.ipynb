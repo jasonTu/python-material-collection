{
 "cells": [
  {
   "cell_type": "markdown",
   "metadata": {},
   "source": [
    "## Class for With\n",
    "```python\n",
    "class controlled_execution:\n",
    "        def __enter__(self):\n",
    "            set things up\n",
    "            return thing\n",
    "        def __exit__(self, type, value, traceback):\n",
    "            tear things down\n",
    "\n",
    "    with controlled_execution() as thing:\n",
    "         some code\n",
    "```"
   ]
  },
  {
   "cell_type": "code",
   "execution_count": 2,
   "metadata": {},
   "outputs": [],
   "source": [
    "class CE:\n",
    "    def __enter__(self):\n",
    "        print('In enter')\n",
    "        return 2\n",
    "    def __exit__(self, type, value, traceback):\n",
    "        print('In exit')"
   ]
  },
  {
   "cell_type": "code",
   "execution_count": 3,
   "metadata": {},
   "outputs": [
    {
     "name": "stdout",
     "output_type": "stream",
     "text": [
      "In enter\n",
      "2\n",
      "In exit\n"
     ]
    }
   ],
   "source": [
    "with CE() as ce:\n",
    "    print(ce)"
   ]
  },
  {
   "cell_type": "markdown",
   "metadata": {},
   "source": [
    "## Function for With\n",
    "```python\n",
    "from contextlib import contextmanager\n",
    "\n",
    "@contextmanager\n",
    "def control_execution():\n",
    "    set things up\n",
    "    yield thing\n",
    "    tear things down\n",
    "```"
   ]
  },
  {
   "cell_type": "code",
   "execution_count": 7,
   "metadata": {},
   "outputs": [],
   "source": [
    "from contextlib import contextmanager\n",
    "\n",
    "@contextmanager\n",
    "def control_execution2():\n",
    "    print('In enter')\n",
    "    yield 1\n",
    "    print('In exit')"
   ]
  },
  {
   "cell_type": "code",
   "execution_count": 8,
   "metadata": {},
   "outputs": [
    {
     "name": "stdout",
     "output_type": "stream",
     "text": [
      "In enter\n",
      "1\n",
      "In exit\n"
     ]
    }
   ],
   "source": [
    "with control_execution2() as ce:\n",
    "    print(ce)"
   ]
  }
 ],
 "metadata": {
  "kernelspec": {
   "display_name": "Python 3",
   "language": "python",
   "name": "python3"
  },
  "language_info": {
   "codemirror_mode": {
    "name": "ipython",
    "version": 3
   },
   "file_extension": ".py",
   "mimetype": "text/x-python",
   "name": "python",
   "nbconvert_exporter": "python",
   "pygments_lexer": "ipython3",
   "version": "3.5.2"
  }
 },
 "nbformat": 4,
 "nbformat_minor": 2
}
