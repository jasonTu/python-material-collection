{
 "cells": [
  {
   "cell_type": "code",
   "execution_count": 2,
   "metadata": {},
   "outputs": [],
   "source": [
    "import paramiko"
   ]
  },
  {
   "cell_type": "code",
   "execution_count": 21,
   "metadata": {},
   "outputs": [],
   "source": [
    "transport = paramiko.Transport(('192.168.1.153',50001))  "
   ]
  },
  {
   "cell_type": "code",
   "execution_count": 22,
   "metadata": {},
   "outputs": [],
   "source": [
    "transport.connect(username='root',password='puyacn#1..')  "
   ]
  },
  {
   "cell_type": "code",
   "execution_count": 23,
   "metadata": {},
   "outputs": [],
   "source": [
    "sftp = paramiko.SFTPClient.from_transport(transport)  "
   ]
  },
  {
   "cell_type": "code",
   "execution_count": 24,
   "metadata": {},
   "outputs": [],
   "source": [
    "lfile = '/root/suspects_uploader.bat'"
   ]
  },
  {
   "cell_type": "code",
   "execution_count": 26,
   "metadata": {},
   "outputs": [
    {
     "data": {
      "text/plain": [
       "<SFTPAttributes: [ size=1802 uid=0 gid=0 mode=0o100644 atime=1524711914 mtime=1524711914 ]>"
      ]
     },
     "execution_count": 26,
     "metadata": {},
     "output_type": "execute_result"
    }
   ],
   "source": [
    "sftp.put(lfile, '/tmp/suspects_uploader.bat2')"
   ]
  },
  {
   "cell_type": "code",
   "execution_count": 27,
   "metadata": {},
   "outputs": [
    {
     "data": {
      "text/plain": [
       "['__class__',\n",
       " '__delattr__',\n",
       " '__dict__',\n",
       " '__dir__',\n",
       " '__doc__',\n",
       " '__enter__',\n",
       " '__eq__',\n",
       " '__exit__',\n",
       " '__format__',\n",
       " '__ge__',\n",
       " '__getattribute__',\n",
       " '__gt__',\n",
       " '__hash__',\n",
       " '__init__',\n",
       " '__le__',\n",
       " '__lt__',\n",
       " '__module__',\n",
       " '__ne__',\n",
       " '__new__',\n",
       " '__reduce__',\n",
       " '__reduce_ex__',\n",
       " '__repr__',\n",
       " '__setattr__',\n",
       " '__sizeof__',\n",
       " '__str__',\n",
       " '__subclasshook__',\n",
       " '__weakref__',\n",
       " '_adjust_cwd',\n",
       " '_async_request',\n",
       " '_convert_status',\n",
       " '_cwd',\n",
       " '_expecting',\n",
       " '_finish_responses',\n",
       " '_lock',\n",
       " '_log',\n",
       " '_read_all',\n",
       " '_read_packet',\n",
       " '_read_response',\n",
       " '_request',\n",
       " '_send_packet',\n",
       " '_send_server_version',\n",
       " '_send_version',\n",
       " '_transfer_with_callback',\n",
       " '_write_all',\n",
       " 'chdir',\n",
       " 'chmod',\n",
       " 'chown',\n",
       " 'close',\n",
       " 'file',\n",
       " 'from_transport',\n",
       " 'get',\n",
       " 'get_channel',\n",
       " 'getcwd',\n",
       " 'getfo',\n",
       " 'listdir',\n",
       " 'listdir_attr',\n",
       " 'listdir_iter',\n",
       " 'logger',\n",
       " 'lstat',\n",
       " 'mkdir',\n",
       " 'normalize',\n",
       " 'open',\n",
       " 'posix_rename',\n",
       " 'put',\n",
       " 'putfo',\n",
       " 'readlink',\n",
       " 'remove',\n",
       " 'rename',\n",
       " 'request_number',\n",
       " 'rmdir',\n",
       " 'sock',\n",
       " 'stat',\n",
       " 'symlink',\n",
       " 'truncate',\n",
       " 'ultra_debug',\n",
       " 'unlink',\n",
       " 'utime']"
      ]
     },
     "execution_count": 27,
     "metadata": {},
     "output_type": "execute_result"
    }
   ],
   "source": [
    "dir(sftp)"
   ]
  },
  {
   "cell_type": "code",
   "execution_count": null,
   "metadata": {},
   "outputs": [],
   "source": [
    "sftp.mkdir('/tmp/remote_mk_dir')"
   ]
  },
  {
   "cell_type": "code",
   "execution_count": 3,
   "metadata": {},
   "outputs": [],
   "source": [
    "ssh = paramiko.SSHClient()"
   ]
  },
  {
   "cell_type": "code",
   "execution_count": 4,
   "metadata": {},
   "outputs": [],
   "source": [
    "ssh.load_system_host_keys()  "
   ]
  },
  {
   "cell_type": "code",
   "execution_count": 5,
   "metadata": {},
   "outputs": [],
   "source": [
    "ssh.set_missing_host_key_policy(paramiko.AutoAddPolicy())"
   ]
  },
  {
   "cell_type": "code",
   "execution_count": 6,
   "metadata": {},
   "outputs": [],
   "source": [
    "ssh.connect(hostname='192.168.1.153', port=50001, username='root', password='puyacn#1..')  "
   ]
  },
  {
   "cell_type": "code",
   "execution_count": 12,
   "metadata": {},
   "outputs": [],
   "source": [
    "stdin, stdout, stderr = ssh.exec_command('ls') "
   ]
  },
  {
   "cell_type": "code",
   "execution_count": 13,
   "metadata": {},
   "outputs": [
    {
     "data": {
      "text/plain": [
       "<paramiko.ChannelFile from <paramiko.Channel 1 (closed) -> <paramiko.Transport at 0x60144f98 (cipher aes128-ctr, 128 bits) (active; 0 open channel(s))>>>"
      ]
     },
     "execution_count": 13,
     "metadata": {},
     "output_type": "execute_result"
    }
   ],
   "source": [
    "stdout"
   ]
  },
  {
   "cell_type": "code",
   "execution_count": 14,
   "metadata": {},
   "outputs": [
    {
     "name": "stdout",
     "output_type": "stream",
     "text": [
      "b'anaconda-ks.cfg\\ninstall.log\\ninstall.log.syslog\\nPython-3.6.5\\nPython-3.6.5.tar.xz\\nwebshell-sample-master\\nwebshell-sample-master.zip\\n'\n"
     ]
    }
   ],
   "source": [
    "print(stdout.read())"
   ]
  },
  {
   "cell_type": "code",
   "execution_count": 15,
   "metadata": {},
   "outputs": [],
   "source": [
    "ssh.close()"
   ]
  }
 ],
 "metadata": {
  "kernelspec": {
   "display_name": "Python 3",
   "language": "python",
   "name": "python3"
  },
  "language_info": {
   "codemirror_mode": {
    "name": "ipython",
    "version": 3
   },
   "file_extension": ".py",
   "mimetype": "text/x-python",
   "name": "python",
   "nbconvert_exporter": "python",
   "pygments_lexer": "ipython3",
   "version": "3.5.2"
  }
 },
 "nbformat": 4,
 "nbformat_minor": 2
}
